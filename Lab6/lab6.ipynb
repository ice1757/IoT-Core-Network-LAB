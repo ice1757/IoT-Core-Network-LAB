{
 "cells": [
  {
   "cell_type": "code",
   "execution_count": 1,
   "metadata": {},
   "outputs": [
    {
     "name": "stdout",
     "output_type": "stream",
     "text": [
      "3.6.9 (default, Oct  8 2020, 12:12:24) \n",
      "[GCC 8.4.0]\n"
     ]
    }
   ],
   "source": [
    "import sys\n",
    "print(sys.version)"
   ]
  },
  {
   "cell_type": "code",
   "execution_count": 2,
   "metadata": {},
   "outputs": [],
   "source": [
    "import requests, base64, time\n",
    "OM2M_URL = \"http://127.0.0.1:8282/~\"\n",
    "CSE_ID = \"/mn-cse/\"\n",
    "CSE_NAME = \"mn-name\"\n",
    "LOGIN=\"admin\"\n",
    "PSWD=\"admin\"\n",
    "OM2M_BASE = OM2M_URL+CSE_ID\n",
    "auth_headers = {\"X-M2M-ORIGIN\":LOGIN+\":\"+PSWD}\n",
    "# The other accepted value is application/xml\n",
    "common_headers = {\"Accept\": \"application/json\"}\n",
    "\n",
    "def create_AE(name):\n",
    "    header_ae = {\"Content-Type\":\"application/xml;ty=2\"}\n",
    "    name_ae = name\n",
    "    body_ae = \"\"\"\n",
    "    <m2m:ae xmlns:m2m=\"http://www.onem2m.org/xml/protocols\" rn=\"{0}\">\n",
    "        <api>semantic</api>\n",
    "        <lbl>Type/semantic Category/temperature Location/home</lbl>\n",
    "        <rr>false</rr>\n",
    "    </m2m:ae>\n",
    "    \"\"\".format(name_ae)\n",
    "    response = requests.delete(OM2M_BASE+CSE_NAME+\"/\"+name_ae, headers={**auth_headers, **common_headers})\n",
    "    print(response)\n",
    "    response = requests.post(OM2M_BASE, data=body_ae, headers={**auth_headers, **common_headers, **header_ae})\n",
    "    print(response)\n",
    "def create_CNT(name_ae, name_cnt):\n",
    "    header_cnt = {\"Content-Type\":\"application/xml;ty=3\"}\n",
    "    body_cnt = \"\"\"<m2m:cnt xmlns:m2m=\"http://www.onem2m.org/xml/protocols\" rn=\"{0}\"></m2m:cnt>\"\"\".format(name_cnt)\n",
    "    print(body_cnt)\n",
    "    response = requests.post(OM2M_BASE+CSE_NAME+\"/\"+name_ae, data=body_cnt, headers={**auth_headers, **common_headers, **header_cnt})\n",
    "    print(response)\n",
    "\n",
    "def create_CIN(name_ae, name_cnt, mode, cin):\n",
    "    header_cin = {\"Content-Type\":\"application/xml;ty=4\"}\n",
    "    body_cin = \"\"\"<m2m:cin xmlns:m2m=\"http://www.onem2m.org/xml/protocols\"><cnf>{0}</cnf><con>{1}</con></m2m:cin>\"\"\".format(mode, base64.b64encode(cin).decode(\"utf-8\"))\n",
    "    print(body_cin)\n",
    "    response = requests.post(OM2M_BASE+CSE_NAME+\"/\"+name_ae+\"/\"+name_cnt, data=body_cin, headers={**auth_headers, **common_headers, **header_cin})\n",
    "    print(response)"
   ]
  },
  {
   "cell_type": "code",
   "execution_count": 3,
   "metadata": {},
   "outputs": [
    {
     "name": "stdout",
     "output_type": "stream",
     "text": [
      "<Response [404]>\n",
      "<Response [201]>\n",
      "<m2m:cnt xmlns:m2m=\"http://www.onem2m.org/xml/protocols\" rn=\"sm_DATA\"></m2m:cnt>\n",
      "<Response [201]>\n"
     ]
    }
   ],
   "source": [
    "create_AE(\"sm_sensor_1\")\n",
    "time.sleep(2)\n",
    "create_CNT(\"sm_sensor_1\", \"sm_DATA\")"
   ]
  },
  {
   "cell_type": "code",
   "execution_count": 4,
   "metadata": {},
   "outputs": [
    {
     "name": "stdout",
     "output_type": "stream",
     "text": [
      "<m2m:cin xmlns:m2m=\"http://www.onem2m.org/xml/protocols\"><cnf>read</cnf><con>CkBwcmVmaXggZXhxOiA8aHR0cDovL2V4YW1wbGUub3JnL25zIz4gLgpAcHJlZml4IHNvc2E6IDxodHRwOi8vd3d3LnczLm9yZy9ucy9zb3NhLz4gLgpAcHJlZml4IHhzZDogPGh0dHA6Ly93d3cudzMub3JnLzIwMDEvWE1MU2NoZW1hIz4gLgoKZXhxOm9iczAwNSBhIHNvc2E6T2JzZXJ2YXRpb24gOwogICAgc29zYTpoYXNSZXN1bHQgMjAgOwogICAgc29zYTptYWRlQnlTZW5zb3IgZXhxOnRoZXJtb21ldGVyIDsKICAgIHNvc2E6b2JzZXJ2ZWRQcm9wZXJ0eSBleHE6VGVtcGVyYXR1cmUgOwogICAgc29zYTpyZXN1bHRUaW1lICIyMDIwLTA2LTIwVDExOjMwOjEyKzAwOjAwIl5eeHNkOmRhdGVUaW1lU3RhbXAgLgoKZXhxOm9iczAwNiBhIHNvc2E6T2JzZXJ2YXRpb24gOwogICAgc29zYTpoYXNSZXN1bHQgMzIgOwogICAgc29zYTptYWRlQnlTZW5zb3IgZXhxOnRoZXJtb21ldGVyIDsKICAgIHNvc2E6b2JzZXJ2ZWRQcm9wZXJ0eSBleHE6VGVtcGVyYXR1cmUgOwogICAgc29zYTpyZXN1bHRUaW1lICIyMDIwLTA2LTIwVDIzOjMwOjEyKzAwOjAwIl5eeHNkOmRhdGVUaW1lU3RhbXAgLgo=</con></m2m:cin>\n",
      "<Response [201]>\n"
     ]
    }
   ],
   "source": [
    "# 新增觀測值 (read)\n",
    "read1 = b\"\"\"\n",
    "@prefix exq: <http://example.org/ns#> .\n",
    "@prefix sosa: <http://www.w3.org/ns/sosa/> .\n",
    "@prefix xsd: <http://www.w3.org/2001/XMLSchema#> .\n",
    "\n",
    "exq:obs005 a sosa:Observation ;\n",
    "    sosa:hasResult 20 ;\n",
    "    sosa:madeBySensor exq:thermometer ;\n",
    "    sosa:observedProperty exq:Temperature ;\n",
    "    sosa:resultTime \"2020-06-20T11:30:12+00:00\"^^xsd:dateTimeStamp .\n",
    "\n",
    "exq:obs006 a sosa:Observation ;\n",
    "    sosa:hasResult 32 ;\n",
    "    sosa:madeBySensor exq:thermometer ;\n",
    "    sosa:observedProperty exq:Temperature ;\n",
    "    sosa:resultTime \"2020-06-20T23:30:12+00:00\"^^xsd:dateTimeStamp .\n",
    "\"\"\"\n",
    "create_CIN(\"sm_sensor_1\", \"sm_DATA\", \"read\", read1)"
   ]
  },
  {
   "cell_type": "code",
   "execution_count": 5,
   "metadata": {},
   "outputs": [
    {
     "name": "stdout",
     "output_type": "stream",
     "text": [
      "<m2m:cin xmlns:m2m=\"http://www.onem2m.org/xml/protocols\"><cnf>query</cnf><con>ClBSRUZJWCBzb3NhOiA8aHR0cDovL3d3dy53My5vcmcvbnMvc29zYS8+ClBSRUZJWCBleHE6IDxodHRwOi8vZXhhbXBsZS5vcmcvbnMjPgpTRUxFQ1QgP3Jlc3VsdApXSEVSRSB7CiAgICBleHE6b2JzMDA2IGEgc29zYTpPYnNlcnZhdGlvbjsKICAgICAgICBzb3NhOmhhc1Jlc3VsdCA/dmFsCiAgICBCSU5EICgKICAgICAgQ09BTEVTQ0UoCiAgICAgICAgSUYoP3ZhbCA+PSAzMCwgImh0dHA6Ly8xMjcuMC4wLjE6ODA4MC9+L21uLWNzZS9tbi1uYW1lL0xBTVBfMT9vcD1zZXRPbiZsYW1waWQ9TEFNUF8xIiwgMS8wKSwKICAgICAgICBJRig/dmFsIDw9IDI1LCAiaHR0cDovLzEyNy4wLjAuMTo4MDgwL34vbW4tY3NlL21uLW5hbWUvTEFNUF8xP29wPXNldE9mZiZsYW1waWQ9TEFNUF8xIiwgMS8wKSwKICAgICAgICAiRVJST1IiCiAgICAgICkgQVMgP3Jlc3VsdAogICAgKQp9Cg==</con></m2m:cin>\n",
      "<Response [201]>\n"
     ]
    }
   ],
   "source": [
    "# query\n",
    "query1 = b\"\"\"\n",
    "PREFIX sosa: <http://www.w3.org/ns/sosa/>\n",
    "PREFIX exq: <http://example.org/ns#>\n",
    "SELECT ?result\n",
    "WHERE {\n",
    "    exq:obs006 a sosa:Observation;\n",
    "        sosa:hasResult ?val\n",
    "    BIND (\n",
    "      COALESCE(\n",
    "        IF(?val >= 30, \"http://127.0.0.1:8080/~/mn-cse/mn-name/LAMP_1?op=setOn&lampid=LAMP_1\", 1/0),\n",
    "        IF(?val <= 25, \"http://127.0.0.1:8080/~/mn-cse/mn-name/LAMP_1?op=setOff&lampid=LAMP_1\", 1/0),\n",
    "        \"ERROR\"\n",
    "      ) AS ?result\n",
    "    )\n",
    "}\n",
    "\"\"\"\n",
    "create_CIN(\"sm_sensor_1\", \"sm_DATA\", \"query\", query1)"
   ]
  },
  {
   "cell_type": "code",
   "execution_count": 6,
   "metadata": {},
   "outputs": [
    {
     "name": "stdout",
     "output_type": "stream",
     "text": [
      "<m2m:cin xmlns:m2m=\"http://www.onem2m.org/xml/protocols\"><cnf>update</cnf><con>ClBSRUZJWCBzb3NhOiA8aHR0cDovL3d3dy53My5vcmcvbnMvc29zYS8+ClBSRUZJWCBleHE6IDxodHRwOi8vZXhhbXBsZS5vcmcvbnMjPgoKREVMRVRFIHsgZXhxOm9iczAwNiA/cHJvcGVydHkgP3ZhbHVlIH0gCldIRVJFIHsgZXhxOm9iczAwNiA/cHJvcGVydHkgP3ZhbHVlIH0gCg==</con></m2m:cin>\n",
      "<Response [201]>\n"
     ]
    }
   ],
   "source": [
    "# 更新 (刪除) exq:obs006 觀測值\n",
    "update2 = b\"\"\"\n",
    "PREFIX sosa: <http://www.w3.org/ns/sosa/>\n",
    "PREFIX exq: <http://example.org/ns#>\n",
    "\n",
    "DELETE { exq:obs006 ?property ?value } \n",
    "WHERE { exq:obs006 ?property ?value } \n",
    "\"\"\"\n",
    "create_CIN(\"sm_sensor_1\", \"sm_DATA\", \"update\", update2)\n"
   ]
  },
  {
   "cell_type": "code",
   "execution_count": 7,
   "metadata": {},
   "outputs": [
    {
     "name": "stdout",
     "output_type": "stream",
     "text": [
      "<m2m:cin xmlns:m2m=\"http://www.onem2m.org/xml/protocols\"><cnf>read</cnf><con>CkBwcmVmaXggZXhxOiA8aHR0cDovL2V4YW1wbGUub3JnL25zIz4gLgpAcHJlZml4IHNvc2E6IDxodHRwOi8vd3d3LnczLm9yZy9ucy9zb3NhLz4gLgpAcHJlZml4IHhzZDogPGh0dHA6Ly93d3cudzMub3JnLzIwMDEvWE1MU2NoZW1hIz4gLgoKZXhxOm9iczAwNiBhIHNvc2E6T2JzZXJ2YXRpb24gOwogICAgc29zYTpoYXNSZXN1bHQgMjMgOwogICAgc29zYTptYWRlQnlTZW5zb3IgZXhxOnRoZXJtb21ldGVyIDsKICAgIHNvc2E6b2JzZXJ2ZWRQcm9wZXJ0eSBleHE6VGVtcGVyYXR1cmUgOwogICAgc29zYTpyZXN1bHRUaW1lICIyMDIwLTA2LTIwVDIzOjMwOjEyKzAwOjAwIl5eeHNkOmRhdGVUaW1lU3RhbXAgLgo=</con></m2m:cin>\n",
      "<Response [201]>\n"
     ]
    }
   ],
   "source": [
    "# 新增 exq:obs006 觀測值\n",
    "read1 = b\"\"\"\n",
    "@prefix exq: <http://example.org/ns#> .\n",
    "@prefix sosa: <http://www.w3.org/ns/sosa/> .\n",
    "@prefix xsd: <http://www.w3.org/2001/XMLSchema#> .\n",
    "\n",
    "exq:obs006 a sosa:Observation ;\n",
    "    sosa:hasResult 23 ;\n",
    "    sosa:madeBySensor exq:thermometer ;\n",
    "    sosa:observedProperty exq:Temperature ;\n",
    "    sosa:resultTime \"2020-06-20T23:30:12+00:00\"^^xsd:dateTimeStamp .\n",
    "\"\"\"\n",
    "create_CIN(\"sm_sensor_1\", \"sm_DATA\", \"read\", read1)"
   ]
  },
  {
   "cell_type": "code",
   "execution_count": 9,
   "metadata": {},
   "outputs": [
    {
     "name": "stdout",
     "output_type": "stream",
     "text": [
      "<m2m:cin xmlns:m2m=\"http://www.onem2m.org/xml/protocols\"><cnf>query</cnf><con>ClBSRUZJWCBzb3NhOiA8aHR0cDovL3d3dy53My5vcmcvbnMvc29zYS8+ClBSRUZJWCBleHE6IDxodHRwOi8vZXhhbXBsZS5vcmcvbnMjPgpTRUxFQ1QgP3Jlc3VsdApXSEVSRSB7CiAgICBleHE6b2JzMDA2IGEgc29zYTpPYnNlcnZhdGlvbjsKICAgICAgICBzb3NhOmhhc1Jlc3VsdCA/dmFsCiAgICBCSU5EICgKICAgICAgQ09BTEVTQ0UoCiAgICAgICAgSUYoP3ZhbCA+PSAzMCwgImh0dHA6Ly8xMjcuMC4wLjE6ODA4MC9+L21uLWNzZS9tbi1uYW1lL0xBTVBfMT9vcD1zZXRPbiZsYW1waWQ9TEFNUF8xIiwgMS8wKSwKICAgICAgICBJRig/dmFsIDw9IDI1LCAiaHR0cDovLzEyNy4wLjAuMTo4MDgwL34vbW4tY3NlL21uLW5hbWUvTEFNUF8xP29wPXNldE9mZiZsYW1waWQ9TEFNUF8xIiwgMS8wKSwKICAgICAgICAiRVJST1IiCiAgICAgICkgQVMgP3Jlc3VsdAogICAgKQp9Cg==</con></m2m:cin>\n",
      "<Response [201]>\n"
     ]
    }
   ],
   "source": [
    "# query\n",
    "query1 = b\"\"\"\n",
    "PREFIX sosa: <http://www.w3.org/ns/sosa/>\n",
    "PREFIX exq: <http://example.org/ns#>\n",
    "SELECT ?result\n",
    "WHERE {\n",
    "    exq:obs006 a sosa:Observation;\n",
    "        sosa:hasResult ?val\n",
    "    BIND (\n",
    "      COALESCE(\n",
    "        IF(?val >= 30, \"http://127.0.0.1:8080/~/mn-cse/mn-name/LAMP_1?op=setOn&lampid=LAMP_1\", 1/0),\n",
    "        IF(?val <= 25, \"http://127.0.0.1:8080/~/mn-cse/mn-name/LAMP_1?op=setOff&lampid=LAMP_1\", 1/0),\n",
    "        \"ERROR\"\n",
    "      ) AS ?result\n",
    "    )\n",
    "}\n",
    "\"\"\"\n",
    "create_CIN(\"sm_sensor_1\", \"sm_DATA\", \"query\", query1)\n"
   ]
  }
 ],
 "metadata": {
  "kernelspec": {
   "display_name": "Python 3",
   "language": "python",
   "name": "python3"
  },
  "language_info": {
   "codemirror_mode": {
    "name": "ipython",
    "version": 3
   },
   "file_extension": ".py",
   "mimetype": "text/x-python",
   "name": "python",
   "nbconvert_exporter": "python",
   "pygments_lexer": "ipython3",
   "version": "3.6.9"
  }
 },
 "nbformat": 4,
 "nbformat_minor": 2
}
